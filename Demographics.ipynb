{
 "cells": [
  {
   "cell_type": "markdown",
   "id": "11677252-af88-4946-acb0-03fd2489abae",
   "metadata": {},
   "source": [
    "<font size=\"6\">Demographics</font>"
   ]
  },
  {
   "cell_type": "markdown",
   "id": "0dc7988f-5ac6-43c9-a7df-82d472d542a4",
   "metadata": {},
   "source": [
    "<font size=\"5\">Table of Contents</font>\n",
    "<div class=\"alert alert-block alert-info\" style=\"margin-top: 20px\">\n",
    "    <ul>\n",
    "        <li>\n",
    "            <a href=\"#The-Profile-of-Persons-Residing-in-Private-Elderly-Homes\">The Profile of Persons Residing in Private Elderly Homes</a>\n",
    "        </li>\n",
    "        <li>\n",
    "            <a href=\"#The-Mortality-Trend-in-Hong-Kong,-1991-to-2022\">The Mortality Trend in Hong Kong, 1991 to 2022</a>\n",
    "        </li>\n",
    "        <li>\n",
    "            <a href=\"#Estimates-of-Location\">Estimates of Locations</a>\n",
    "            <ul>\n",
    "                <li><a href=\"#Mean\">Mean</a></li>\n",
    "                <li><a href=\"#Trimmed-mean\">Trimmed mean</a></li>\n",
    "                <li><a href=\"#Weighted-mean\">Weighted mean</a></li>\n",
    "                <li><a href=\"#Exercise:-Variables-in-Python\">Exercise: Variables in Python</a></li>\n",
    "            </ul>\n",
    "        </li>\n",
    "        <li>\n",
    "            <a href=\"#Carriage-return-'\\r'-in-Python\">Carriage return '\\r' in Python</a>\n",
    "        </li>\n",
    "    </ul>\n",
    "</div>\n",
    "\n",
    "<hr>"
   ]
  },
  {
   "cell_type": "markdown",
   "id": "aa91e53d-e01e-475b-92e7-ca4a4426a165",
   "metadata": {},
   "source": [
    "# [The Profile of Persons Residing in Private Elderly Homes](https://www.censtatd.gov.hk/en/data/stat_report/product/FA100097/att/B72403FA2024XXXXB0100.pdf)\n",
    "\n",
    "Feature Articles in Statistics, March 2024"
   ]
  },
  {
   "cell_type": "markdown",
   "id": "b75a7787-8f10-4835-8a2f-cac8b0d48a71",
   "metadata": {},
   "source": [
    "* Survey coverage and estimation method\n",
    "  * The sampling frame of the 2023 round of the survey was the list of private elderly homes (PEH) maintained by SWD as at end June 2023. SWD maintains the list with the enrollment only but not information on the age-sex profile of persons residing in PEH.\n",
    "  * C&SD had sent each of the PEH an invitation letter, a copy of the questionnaire, and a return envelope to collect the number of persons residing therein by age and sex as at 1 July 2023. A letter from SWD inviting PEH to participate in the survey was sent out together in order to boost the response rate.\n",
    "  * Questionnaires completed by PEH were mainly collected by post. Telephone follow-up calls were made to those outstanding cases and cases which required verification of the data provided.\n",
    "  * Of the 615 PEH, 593 PEH returned the completed questionnaires by post or fax or provided the required data during the telephone follow-up calls (i.e. fully completed cases).\n",
    "  * For the 22 non-response cases, the corresponding enrollments from SWD were used as the estimated totals. The age-sex distribution was assumed to be the same as the overall pattern of the completed cases."
   ]
  },
  {
   "cell_type": "markdown",
   "id": "316cea61-5831-40a6-8ced-a51a264477b8",
   "metadata": {},
   "source": [
    "# [The Mortality Trend in Hong Kong, 1991 to 2022](https://www.censtatd.gov.hk/en/data/stat_report/product/FA100094/att/B72401FA2024XXXXB0100.pdf)\n",
    "\n",
    "Feature Articles in Statistics, January 2024"
   ]
  },
  {
   "cell_type": "markdown",
   "id": "dbfcf40e-6988-4126-afca-da1cf9e4c0de",
   "metadata": {},
   "source": [
    "* Introduction\n",
    "  * Mortality trend is often used as one of the indicators for assessing the state of health of the population. Analysis of age-sex mortality rates and causes of death can also facilitate planning of healthcare services.\n",
    "  * The **age-sex specific mortality rates** for both sexes and most age groups have been broadly decreasing continuously over the previous 30 years, reflecting that residents of Hong Kong tend to live longer along with advancement in healthcare services. Yet, because of population ageing, the **overall mortality rates** and the number of deaths have inevitably been increasing.\n",
    "* Mortality trend\n",
    "  * The number of deaths in Hong Kong increased gradually from 28 429 in 1991 to 51 354 in 2021, and thereafter increased notably to 63 692 in 2022 due to the impact of the COVID-19 pandemic.\n",
    "  * The **crude death rate**, which refers to _the number of deaths in a given year per thousand mid-year population of that year_, increased from 5.0 per 1 000 population in 1991 to 6.9 in 2021 and up to 8.7 in 2022. Though the crude death rate is **a simple and common measure of mortality, it is susceptible to changes in the population in respect of age, sex and other characteristics**.\n",
    "  * The **standardised death rates** calculated by _discounting the effect of the age-sex structure of the population_ reflect more accurately the mortality trend. The standardised death rate of Hong Kong dropped from 11.8 per 1 000 population in 1991 to 6.9 in 2021, and then increased notably to 8.4 in 2022.\n",
    "  * Mortality rate varies significantly with age. In general, the mortality rate starts at a high level during the first year of life, falls to a minimum around ages 5 - 9, then increases slowly until midlife. Thereafter, it rises with the advance of age.\n",
    "  * The trend of mortality rate improvement can be readily studied with reference to the **age-sex specific mortality rates**. The rate _relates the number of deaths in a given age-sex group occurring in a calendar year to the population at mid-year in that age-sex group_.\n",
    "* Expectation of life\n",
    "  * Expectation of life is a useful measure to describe and compare mortality conditions at specific ages. The expectation of life at birth defines the number of years of life that a person born in a given year is expected to live if he/she was subject to the prevalent mortality conditions as reflected by the set of age-sex specific mortality rates for that year."
   ]
  },
  {
   "cell_type": "code",
   "execution_count": null,
   "id": "f6bbb0e1-ffed-4103-9e54-ff78bd52342c",
   "metadata": {},
   "outputs": [],
   "source": []
  }
 ],
 "metadata": {
  "kernelspec": {
   "display_name": "Python 3 (ipykernel)",
   "language": "python",
   "name": "python3"
  },
  "language_info": {
   "codemirror_mode": {
    "name": "ipython",
    "version": 3
   },
   "file_extension": ".py",
   "mimetype": "text/x-python",
   "name": "python",
   "nbconvert_exporter": "python",
   "pygments_lexer": "ipython3",
   "version": "3.11.5"
  }
 },
 "nbformat": 4,
 "nbformat_minor": 5
}
