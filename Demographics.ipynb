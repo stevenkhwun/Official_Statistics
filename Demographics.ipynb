{
 "cells": [
  {
   "cell_type": "markdown",
   "id": "11677252-af88-4946-acb0-03fd2489abae",
   "metadata": {},
   "source": [
    "<font size=\"6\">Demographics</font>"
   ]
  },
  {
   "cell_type": "markdown",
   "id": "0dc7988f-5ac6-43c9-a7df-82d472d542a4",
   "metadata": {},
   "source": [
    "<font size=\"5\">Table of Contents</font>\n",
    "<div class=\"alert alert-block alert-info\" style=\"margin-top: 20px\">\n",
    "    <ul>\n",
    "        <li>\n",
    "            <a href=\"#The-Profile-of-Persons-Residing-in-Private-Elderly-Homes\">The Profile of Persons Residing in Private Elderly Homes</a>\n",
    "        </li>\n",
    "        <li>\n",
    "            <a href=\"#Estimates-of-Location\">Estimates of Locations</a>\n",
    "            <ul>\n",
    "                <li><a href=\"#Mean\">Mean</a></li>\n",
    "                <li><a href=\"#Trimmed-mean\">Trimmed mean</a></li>\n",
    "                <li><a href=\"#Weighted-mean\">Weighted mean</a></li>\n",
    "                <li><a href=\"#Exercise:-Variables-in-Python\">Exercise: Variables in Python</a></li>\n",
    "            </ul>\n",
    "        </li>\n",
    "        <li>\n",
    "            <a href=\"#Carriage-return-'\\r'-in-Python\">Carriage return '\\r' in Python</a>\n",
    "        </li>\n",
    "    </ul>\n",
    "</div>\n",
    "\n",
    "<hr>"
   ]
  },
  {
   "cell_type": "markdown",
   "id": "aa91e53d-e01e-475b-92e7-ca4a4426a165",
   "metadata": {},
   "source": [
    "# [The Profile of Persons Residing in Private Elderly Homes](https://www.censtatd.gov.hk/en/data/stat_report/product/FA100097/att/B72403FA2024XXXXB0100.pdf)\n",
    "\n",
    "Feature Articles in Statistics, March 2024"
   ]
  },
  {
   "cell_type": "markdown",
   "id": "b75a7787-8f10-4835-8a2f-cac8b0d48a71",
   "metadata": {},
   "source": [
    "* Survey coverage and estimation method\n",
    "  * The sampling frame of the 2023 round of the survey was the list of private elderly homes (PEH) maintained by SWD as at end June 2023. SWD maintains the list with the enrollment only but not information on the age-sex profile of persons residing in PEH.\n",
    "  * C&SD had sent each of the PEH an invitation letter, a copy of the questionnaire, and a return envelope to collect the number of persons residing therein by age and sex as at 1 July 2023. A letter from SWD inviting PEH to participate in the survey was sent out together in order to boost the response rate.\n",
    "  * Questionnaires completed by PEH were mainly collected by post. Telephone follow-up calls were made to those outstanding cases and cases which required verification of the data provided.\n",
    "  * Of the 615 PEH, 593 PEH returned the completed questionnaires by post or fax or provided the required data during the telephone follow-up calls (i.e. fully completed cases).\n",
    "  * For the 22 non-response cases, the corresponding enrollments from SWD were used as the estimated totals. The age-sex distribution was assumed to be the same as the overall pattern of the completed cases."
   ]
  },
  {
   "cell_type": "code",
   "execution_count": null,
   "id": "d7d54f6a-0a0f-47d3-b816-4f3250e790f6",
   "metadata": {},
   "outputs": [],
   "source": []
  }
 ],
 "metadata": {
  "kernelspec": {
   "display_name": "Python 3 (ipykernel)",
   "language": "python",
   "name": "python3"
  },
  "language_info": {
   "codemirror_mode": {
    "name": "ipython",
    "version": 3
   },
   "file_extension": ".py",
   "mimetype": "text/x-python",
   "name": "python",
   "nbconvert_exporter": "python",
   "pygments_lexer": "ipython3",
   "version": "3.11.5"
  }
 },
 "nbformat": 4,
 "nbformat_minor": 5
}
