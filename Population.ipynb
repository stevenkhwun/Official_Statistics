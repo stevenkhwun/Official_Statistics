{
 "cells": [
  {
   "cell_type": "markdown",
   "id": "38181dc8-718f-4bcc-a335-e5ea82d019a5",
   "metadata": {},
   "source": [
    "[Hong Kong 2021 Population Census - Technical Report](https://www.censtatd.gov.hk/en/data/stat_report/product/B1120110/att/B11201102021XXXXB0100.pdf), 2 December 2022."
   ]
  },
  {
   "cell_type": "markdown",
   "id": "8c32224f-3d41-4ce0-8876-d6f01458d11f",
   "metadata": {},
   "source": [
    "<h2>Table of Contents</h2>\n",
    "<div class=\"alert alert-block alert-info\" style=\"margin-top: 20px\">\n",
    "    <ul>\n",
    "        <li>\n",
    "            <a href=\"#Introduction\">Introduction</a>\n",
    "        </li>\n",
    "        <li>\n",
    "            <a href=\"#Planning\">Planning</a>\n",
    "            <ul>\n",
    "                <li><a href=\"#Survey-design\">Survey design</a></li>\n",
    "                <li><a href=\"#Protection-of-personal-data\">Protection of personal data</a></li>\n",
    "                <li><a href=\"#Sampling-frame\">Sampling frame</a></li>\n",
    "                <li><a href=\"#Concatenate-Strings\">Concatenate Strings</a></li>\n",
    "            </ul>\n",
    "        </li>\n",
    "        <li>\n",
    "            <a href=\"#Escape-Sequences\">Escape Sequences</a>\n",
    "        </li>\n",
    "        <li>\n",
    "            <a href=\"#String-Manipulation-Operations\">String Manipulation Operations</a>\n",
    "        </li>\n",
    "        <li>\n",
    "            <a href=\"#RegEx\">RegEx</a>\n",
    "        </li>\n",
    "        <li>\n",
    "            <a href=\"#Quiz-on-Strings\">Quiz on Strings</a>\n",
    "        </li>\n",
    "    </ul>\n",
    "\n",
    "</div>\n",
    "\n",
    "<hr>"
   ]
  },
  {
   "cell_type": "markdown",
   "id": "1552d7c6-a059-4fce-ac42-383ac817b8c8",
   "metadata": {},
   "source": [
    "# Introduction\n",
    "\n",
    "* The Census provides up-to-date benchmark information on the demographic and socio-economic characteristics of the population of Hong Kong and on its geographical distribution. Such information is essential to the Government for planning and policy formulation, and to the private sector and academia for business and research purposes.\n",
    "* In the 1981, 1991, 2001, 2011 and 2021 **Population Censuses**, while _a complete headcount of all persons and their age and sex information was enumerated, the detailed socio-economic characteristics of the population were enquired on the basis of a large sample_.\n",
    "* A **population by-census** differs from a population census in not having a complete headcount of the population but \n",
    "_simply enquiring on the detailed characteristics of the population on the basis of a large sample_. The size and \n",
    "characteristics of the entire population are inferred from the sample results in accordance with appropriate statistical theory.\n",
    "* About **nine-tenths** of the households were subject to simple enumeration to provide basic demographic information of their household members, while the remaining **one-tenth** of the households were subject to more detailed enquiry on a broad range of demographic and socio-economic characteristics of their household members.\n",
    "* The system for compiling population figures is complex and requires data from a wide variety of sources. The results of population censuses/by-ensuses form the cornerstone of the system. These benchmark data are taken together with statistical data generated from administrative systems (such as births, deaths and passenger movement records) and sample surveys (in particular the continuous General Household Survey) to form a population statistical database which \n",
    "serves a multitude of purposes, including the compilation of population figures.\n",
    "* Starting 2021 population census, households could provide the required information by completing the online questionnaire (OQ), calling the Census Services Centre (CSC) to conduct a telephone interview (TI) or mailing back the completed paper questionnaire (applicable to households subject to simple enumeration).\n",
    "* The **Hong Kong Resident Population** at the reference moment of the 2021 Population Census (i.e. 3:00 a.m. on 30 June 2021) covers “**Usual Residents**” and “**Mobile Residents**”.\n",
    "  * “**Usual Residents**” refer to two categories of people: (1) **Hong Kong Permanent Residents** who had stayed in Hong Kong for at least 3 months during the 6 months before or for at least 3 months during the 6 months after the reference moment, regardless of whether they were in Hong Kong or not at the reference moment; and (2) **Hong Kong Non-permanent Residents** who were in Hong Kong at the reference moment.\n",
    "  * For those **Hong Kong Permanent Residents** who were not “Usual Residents”, they were classified as “**Mobile Residents**” if they had stayed in Hong Kong for at least 1 month but less than 3 months during the 6 months before or for at least 1 month but less than 3 months during the 6 months after the reference moment, regardless of whether they were in Hong Kong or not at the reference moment."
   ]
  },
  {
   "cell_type": "markdown",
   "id": "5e74fcf1-0e2a-43a0-87d2-806df8c4fe43",
   "metadata": {},
   "source": [
    "# Planning"
   ]
  },
  {
   "cell_type": "markdown",
   "id": "434d98ab-48c9-47c6-a241-43b7a6da1ff3",
   "metadata": {},
   "source": [
    "## Survey design\n",
    "\n",
    "* Two types of questionnaire, namely the “**Short Form**” and the “**Long Form**”, were used.\n",
    "* The “**Short Form**” used in the 2021 Population Census, which was used in the simple enumeration, covered only some basic questions. On the other hand, the “**Long Form**”, which was used in the detailed enquiry, included not only those questions covered in the “Short Form”, but also additional ones related to the socio-economic characteristics of the population and the characteristics of households and quarters. "
   ]
  },
  {
   "cell_type": "markdown",
   "id": "fb576ab9-1671-411c-9139-00017509b02f",
   "metadata": {},
   "source": [
    "## Protection of personal data\n",
    "\n",
    "* First, to ensure a secure data collection process, stringent security measures were implemented in various aspects such as the data centre for hosting the central application system, data storage and transmission, the mobile questionnaire app installed in the mobile tablets for data collection, data access right control on various system components and training given to enumerators.\n",
    "* In particular, in the aspect of data transmission, all data collected through different channels (including self-enumeration by households as well as telephone and face-to-face interviews conducted by enumerators) were transmitted in \n",
    "encrypted format to the data centre.\n",
    "* Furthermore, for data collected using mobile tablets during face-to-face interviews, the transient data stored in mobile tablets were erased automatically once they were uploaded to the data centre, with a view to further strengthening\n",
    "data security.\n",
    "* Besides, all temporary field workers (including enumerators) were required to take an oath of secrecy and treat the collected information in strict confidence.\n",
    "* All data, either in paper format or in digital format, should be deleted within a reasonable time.\n",
    "* At the data processing and dissemination stage, in order to avoid the identification of a particular person or household, information which enables identification of individual persons and households, such as household reference numbers, addresses and names/ preferred names of respondents, had been completely removed from all the computer data files (including the dataset for data dissemination) with data now only be kept in anonymous form for data dissemination and analysis purposes. "
   ]
  },
  {
   "cell_type": "markdown",
   "id": "2ceedcf8-1c80-44df-97d8-d342098666d7",
   "metadata": {},
   "source": [
    "## Sampling frame\n",
    "\n",
    "* The sampling frame for the **land enumeration** (excluding the special class enumeration) of the 2021 Population Census consists of two parts. For the **built-up areas** (including new towns), there is a list of permanent quarters, each of which can be identified by an address. Each address is unique with details of the house number, street name, building \n",
    "name, floor number and flat number. It is known as the “**Register of Quarters**”. The updating is based on the information on the demolition of old buildings and the construction of new buildings, which is available from various sources including the Housing Department and the Buildings Department.\n",
    "* For the **non-built-up areas**, there is a list of area segments known as the “**Register of Segments**”. Each segment \n",
    "contains some 8 to 15 quarters and is delineated by some physical or easily identifiable boundaries such as streams, footpaths, lanes and ditches. A full-scale updating for segments was conducted before the 2021 Population Census through field verification. The segment boundaries were re-delineated, maintaining that the number of quarters in each segment is more or less the same.\n",
    "* Besides, to ensure the data quality regarding **subdivided units**, buildings and districts with higher prevalence of subdivided units had been identified through field observations before the 2021 Population Census. Relevant information had then been updated in the “Register of Quarters” and the “Register of Segments”.\n",
    "* **Marine enumeration** covered households residing on fishing boats and pleasure craft."
   ]
  },
  {
   "cell_type": "markdown",
   "id": "0237dc8f-24a4-4c2d-b386-a64833c4e171",
   "metadata": {},
   "source": [
    "## Small-scale Test Survey and Pilot Survey\n",
    "\n",
    "* A Small-scale Test Survey of about 3 000 quarters was conducted from 1 November to 4 December 2019 to test the questionnaire design and operational arrangements of the 2021 Population Census and consult the views of households on the related arrangements.\n",
    "* In addition, a Pilot Survey of about 40 000 quarters in four selected District Council districts, namely Wan Chai, Sham Shui Po, Kwai Tsing and Sha Tin districts, was conducted during 23 June to 4 August 2020. The pilot survey was mainly intended to serve as a dress rehearsal to confirm all the details of the 2021 Population Census."
   ]
  },
  {
   "cell_type": "code",
   "execution_count": null,
   "id": "641c2709-be2f-4e17-a99f-a8de037cad99",
   "metadata": {},
   "outputs": [],
   "source": []
  }
 ],
 "metadata": {
  "kernelspec": {
   "display_name": "Python 3 (ipykernel)",
   "language": "python",
   "name": "python3"
  },
  "language_info": {
   "codemirror_mode": {
    "name": "ipython",
    "version": 3
   },
   "file_extension": ".py",
   "mimetype": "text/x-python",
   "name": "python",
   "nbconvert_exporter": "python",
   "pygments_lexer": "ipython3",
   "version": "3.11.5"
  }
 },
 "nbformat": 4,
 "nbformat_minor": 5
}
